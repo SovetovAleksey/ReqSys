{
  "cells": [
    {
      "cell_type": "markdown",
      "metadata": {
        "id": "view-in-github",
        "colab_type": "text"
      },
      "source": [
        "<a href=\"https://colab.research.google.com/github/SovetovAleksey/ReqSys/blob/course_project/course_project.ipynb\" target=\"_parent\"><img src=\"https://colab.research.google.com/assets/colab-badge.svg\" alt=\"Open In Colab\"/></a>"
      ]
    },
    {
      "cell_type": "code",
      "execution_count": null,
      "metadata": {
        "id": "5Aur99NsC4Jm"
      },
      "outputs": [],
      "source": [
        "import pandas as pd\n",
        "import numpy as np\n",
        "import matplotlib.pyplot as plt\n",
        "%matplotlib inline\n",
        "\n",
        "%load_ext autoreload\n",
        "%autoreload 2\n",
        "\n",
        "# Для работы с матрицами\n",
        "from scipy.sparse import csr_matrix\n",
        "\n",
        "# Матричная факторизация\n",
        "from implicit import als\n",
        "\n",
        "# Модель второго уровня\n",
        "from lightgbm import LGBMClassifier\n",
        "\n",
        "import os, sys\n",
        "module_path = os.path.abspath(os.path.join(os.pardir))\n",
        "if module_path not in sys.path:\n",
        "    sys.path.append(module_path)\n",
        "\n",
        "# Написанные нами функции\n",
        "from src.metrics import precision_at_k, recall_at_k\n",
        "from src.utils import prefilter_items\n",
        "from src.recommenders import MainRecommender"
      ]
    },
    {
      "cell_type": "code",
      "execution_count": null,
      "metadata": {
        "id": "vso_erSdC4Jo",
        "outputId": "da20dbf1-3086-4fd6-ac92-f7653d7f9f71"
      },
      "outputs": [
        {
          "data": {
            "text/html": [
              "<div>\n",
              "<style scoped>\n",
              "    .dataframe tbody tr th:only-of-type {\n",
              "        vertical-align: middle;\n",
              "    }\n",
              "\n",
              "    .dataframe tbody tr th {\n",
              "        vertical-align: top;\n",
              "    }\n",
              "\n",
              "    .dataframe thead th {\n",
              "        text-align: right;\n",
              "    }\n",
              "</style>\n",
              "<table border=\"1\" class=\"dataframe\">\n",
              "  <thead>\n",
              "    <tr style=\"text-align: right;\">\n",
              "      <th></th>\n",
              "      <th>Unnamed: 0</th>\n",
              "      <th>user_id</th>\n",
              "      <th>basket_id</th>\n",
              "      <th>day</th>\n",
              "      <th>item_id</th>\n",
              "      <th>quantity</th>\n",
              "      <th>sales_value</th>\n",
              "      <th>store_id</th>\n",
              "      <th>retail_disc</th>\n",
              "      <th>trans_time</th>\n",
              "      <th>week_no</th>\n",
              "      <th>coupon_disc</th>\n",
              "      <th>coupon_match_disc</th>\n",
              "    </tr>\n",
              "  </thead>\n",
              "  <tbody>\n",
              "    <tr>\n",
              "      <th>0</th>\n",
              "      <td>1832874</td>\n",
              "      <td>1078</td>\n",
              "      <td>35573861879</td>\n",
              "      <td>524</td>\n",
              "      <td>1082185</td>\n",
              "      <td>1</td>\n",
              "      <td>0.56</td>\n",
              "      <td>375</td>\n",
              "      <td>0.0</td>\n",
              "      <td>1440</td>\n",
              "      <td>76</td>\n",
              "      <td>0.0</td>\n",
              "      <td>0.0</td>\n",
              "    </tr>\n",
              "    <tr>\n",
              "      <th>1</th>\n",
              "      <td>402281</td>\n",
              "      <td>324</td>\n",
              "      <td>29170411703</td>\n",
              "      <td>165</td>\n",
              "      <td>7168774</td>\n",
              "      <td>2</td>\n",
              "      <td>6.98</td>\n",
              "      <td>367</td>\n",
              "      <td>0.0</td>\n",
              "      <td>1115</td>\n",
              "      <td>24</td>\n",
              "      <td>0.0</td>\n",
              "      <td>0.0</td>\n",
              "    </tr>\n",
              "  </tbody>\n",
              "</table>\n",
              "</div>"
            ],
            "text/plain": [
              "   Unnamed: 0  user_id    basket_id  day  item_id  quantity  sales_value  \\\n",
              "0     1832874     1078  35573861879  524  1082185         1         0.56   \n",
              "1      402281      324  29170411703  165  7168774         2         6.98   \n",
              "\n",
              "   store_id  retail_disc  trans_time  week_no  coupon_disc  coupon_match_disc  \n",
              "0       375          0.0        1440       76          0.0                0.0  \n",
              "1       367          0.0        1115       24          0.0                0.0  "
            ]
          },
          "execution_count": 2,
          "metadata": {},
          "output_type": "execute_result"
        }
      ],
      "source": [
        "data = pd.read_csv('data/retail_train.csv')\n",
        "item_features = pd.read_csv('raw_data/product.csv')\n",
        "user_features = pd.read_csv('raw_data/hh_demographic.csv')\n",
        "\n",
        "# column processing\n",
        "item_features.columns = [col.lower() for col in item_features.columns]\n",
        "user_features.columns = [col.lower() for col in user_features.columns]\n",
        "\n",
        "item_features.rename(columns={'product_id': 'item_id'}, inplace=True)\n",
        "user_features.rename(columns={'household_key': 'user_id'}, inplace=True)\n",
        "\n",
        "\n",
        "# Важна схема обучения и валидации!\n",
        "# -- давние покупки -- | -- 6 недель -- | -- 3 недель -- \n",
        "# подобрать размер 2-ого датасета (6 недель) --> learning curve (зависимость метрики recall@k от размера датасета)\n",
        "val_lvl_1_size_weeks = 6\n",
        "val_lvl_2_size_weeks = 3\n",
        "\n",
        "data_train_lvl_1 = data[data['week_no'] < data['week_no'].max() - (val_lvl_1_size_weeks + val_lvl_2_size_weeks)]\n",
        "data_val_lvl_1 = data[(data['week_no'] >= data['week_no'].max() - (val_lvl_1_size_weeks + val_lvl_2_size_weeks)) &\n",
        "                      (data['week_no'] < data['week_no'].max() - (val_lvl_2_size_weeks))]\n",
        "\n",
        "data_train_lvl_2 = data_val_lvl_1.copy()  # Для наглядности. Далее мы добавим изменения, и они будут отличаться\n",
        "data_val_lvl_2 = data[data['week_no'] >= data['week_no'].max() - val_lvl_2_size_weeks]\n",
        "\n",
        "data_train_lvl_1.head(2)"
      ]
    },
    {
      "cell_type": "code",
      "execution_count": null,
      "metadata": {
        "id": "E2St2kCdfqyq",
        "outputId": "7fc4a97d-f53c-4e30-dcab-4a3dcf0d2625"
      },
      "outputs": [
        {
          "data": {
            "text/plain": [
              "((199764, 13), (16752, 13), (11333, 13))"
            ]
          },
          "execution_count": 3,
          "metadata": {},
          "output_type": "execute_result"
        }
      ],
      "source": [
        "data_train_lvl_1.shape, data_train_lvl_2.shape, data_val_lvl_2.shape"
      ]
    },
    {
      "cell_type": "code",
      "execution_count": null,
      "metadata": {
        "id": "zcnV3l4XC4Jp",
        "outputId": "d58f889c-0671-4bb9-b2b6-2dc2e8c24fce"
      },
      "outputs": [
        {
          "name": "stdout",
          "output_type": "stream",
          "text": [
            "Decreased # items from 33411 to 5001\n"
          ]
        }
      ],
      "source": [
        "n_items_before = data_train_lvl_1['item_id'].nunique()\n",
        "\n",
        "data_train_lvl_1 = prefilter_items(data_train_lvl_1, take_n_popular=5000)\n",
        "\n",
        "n_items_after = data_train_lvl_1['item_id'].nunique()\n",
        "print('Decreased # items from {} to {}'.format(n_items_before, n_items_after))"
      ]
    },
    {
      "cell_type": "code",
      "execution_count": null,
      "metadata": {
        "colab": {
          "referenced_widgets": [
            "729d4287bb794971802d9da5e141f10a",
            "32375ef613474af6a0fcadb9255eb835",
            "7bdb40bf40034ab8a3f10d02b2ee0420",
            "dd9d0d9da1914b68967a4dfc9f16b525"
          ]
        },
        "id": "zgYXRQ0lC4Jq",
        "outputId": "d9ea41ae-3b4d-41b4-fc46-90868ebb9894",
        "scrolled": true
      },
      "outputs": [
        {
          "name": "stderr",
          "output_type": "stream",
          "text": [
            "C:\\ProgramData\\Anaconda3\\lib\\site-packages\\implicit\\utils.py:33: UserWarning: Intel MKL BLAS detected. Its highly recommend to set the environment variable 'export MKL_NUM_THREADS=1' to disable its internal multithreading\n",
            "  warnings.warn(\n"
          ]
        },
        {
          "data": {
            "application/vnd.jupyter.widget-view+json": {
              "model_id": "7bdb40bf40034ab8a3f10d02b2ee0420",
              "version_major": 2,
              "version_minor": 0
            },
            "text/plain": [
              "  0%|          | 0/30 [00:00<?, ?it/s]"
            ]
          },
          "metadata": {},
          "output_type": "display_data"
        },
        {
          "data": {
            "application/vnd.jupyter.widget-view+json": {
              "model_id": "dd9d0d9da1914b68967a4dfc9f16b525",
              "version_major": 2,
              "version_minor": 0
            },
            "text/plain": [
              "  0%|          | 0/5001 [00:00<?, ?it/s]"
            ]
          },
          "metadata": {},
          "output_type": "display_data"
        }
      ],
      "source": [
        "recommender = MainRecommender(data_train_lvl_1)"
      ]
    },
    {
      "cell_type": "code",
      "execution_count": null,
      "metadata": {
        "id": "xB9JX5swC4Jr",
        "outputId": "af05502b-1fb9-42b6-919c-b915ac3a0106"
      },
      "outputs": [
        {
          "data": {
            "text/plain": [
              "[899624, 1044078, 896613, 1106523, 926905]"
            ]
          },
          "execution_count": 6,
          "metadata": {},
          "output_type": "execute_result"
        }
      ],
      "source": [
        "recommender.get_als_recommendations(2375, N=5)"
      ]
    },
    {
      "cell_type": "code",
      "execution_count": null,
      "metadata": {
        "id": "0NoB_lSJC4Js",
        "outputId": "9f91a42c-08bf-4037-fca1-54db5a5cafee"
      },
      "outputs": [
        {
          "data": {
            "text/plain": [
              "[1045779, 1137483, 940726, 1064408, 933248]"
            ]
          },
          "execution_count": 7,
          "metadata": {},
          "output_type": "execute_result"
        }
      ],
      "source": [
        "recommender.get_similar_items_recommendation(2375, N=5)"
      ]
    },
    {
      "cell_type": "code",
      "execution_count": null,
      "metadata": {
        "id": "GdQO5CWKC4Js",
        "outputId": "08936fbf-715f-412a-9fbe-065816bb6a90"
      },
      "outputs": [
        {
          "data": {
            "text/plain": [
              "[8090509, 1070820, 1029743, 948384, 8090521]"
            ]
          },
          "execution_count": 8,
          "metadata": {},
          "output_type": "execute_result"
        }
      ],
      "source": [
        "recommender.get_similar_users_recommendation(237, N=5)"
      ]
    },
    {
      "cell_type": "code",
      "execution_count": null,
      "metadata": {
        "id": "PNVa6jWLC4Jr",
        "outputId": "c69395e4-8171-41f1-c0c4-067b582f26e0"
      },
      "outputs": [
        {
          "data": {
            "text/plain": [
              "[896613, 899624, 835300, 907099, 973181]"
            ]
          },
          "execution_count": 9,
          "metadata": {},
          "output_type": "execute_result"
        }
      ],
      "source": [
        "recommender.get_own_recommendations(2375, N=5)"
      ]
    },
    {
      "cell_type": "code",
      "execution_count": null,
      "metadata": {
        "id": "frt2RzDWC4Jt",
        "outputId": "7c594abf-4a34-406b-9897-8bfbddf69a93",
        "scrolled": false
      },
      "outputs": [
        {
          "data": {
            "text/html": [
              "<div>\n",
              "<style scoped>\n",
              "    .dataframe tbody tr th:only-of-type {\n",
              "        vertical-align: middle;\n",
              "    }\n",
              "\n",
              "    .dataframe tbody tr th {\n",
              "        vertical-align: top;\n",
              "    }\n",
              "\n",
              "    .dataframe thead th {\n",
              "        text-align: right;\n",
              "    }\n",
              "</style>\n",
              "<table border=\"1\" class=\"dataframe\">\n",
              "  <thead>\n",
              "    <tr style=\"text-align: right;\">\n",
              "      <th></th>\n",
              "      <th>user_id</th>\n",
              "      <th>actual</th>\n",
              "    </tr>\n",
              "  </thead>\n",
              "  <tbody>\n",
              "    <tr>\n",
              "      <th>0</th>\n",
              "      <td>1</td>\n",
              "      <td>[1098248, 1017299, 1077430, 938004, 1082185, 8...</td>\n",
              "    </tr>\n",
              "    <tr>\n",
              "      <th>1</th>\n",
              "      <td>2</td>\n",
              "      <td>[830127, 7442008, 899624, 944568]</td>\n",
              "    </tr>\n",
              "  </tbody>\n",
              "</table>\n",
              "</div>"
            ],
            "text/plain": [
              "   user_id                                             actual\n",
              "0        1  [1098248, 1017299, 1077430, 938004, 1082185, 8...\n",
              "1        2                  [830127, 7442008, 899624, 944568]"
            ]
          },
          "execution_count": 10,
          "metadata": {},
          "output_type": "execute_result"
        }
      ],
      "source": [
        "result_lvl_1 = data_val_lvl_1.groupby('user_id')['item_id'].unique().reset_index()\n",
        "result_lvl_1.columns=['user_id', 'actual']\n",
        "result_lvl_1.head(2)"
      ]
    },
    {
      "cell_type": "code",
      "execution_count": null,
      "metadata": {
        "id": "nr_DriZ7fqyv",
        "outputId": "edc38566-8082-413a-e0d3-ca40a069b019"
      },
      "outputs": [
        {
          "data": {
            "text/html": [
              "<div>\n",
              "<style scoped>\n",
              "    .dataframe tbody tr th:only-of-type {\n",
              "        vertical-align: middle;\n",
              "    }\n",
              "\n",
              "    .dataframe tbody tr th {\n",
              "        vertical-align: top;\n",
              "    }\n",
              "\n",
              "    .dataframe thead th {\n",
              "        text-align: right;\n",
              "    }\n",
              "</style>\n",
              "<table border=\"1\" class=\"dataframe\">\n",
              "  <thead>\n",
              "    <tr style=\"text-align: right;\">\n",
              "      <th></th>\n",
              "      <th>user_id</th>\n",
              "      <th>actual</th>\n",
              "      <th>candidates</th>\n",
              "    </tr>\n",
              "  </thead>\n",
              "  <tbody>\n",
              "    <tr>\n",
              "      <th>0</th>\n",
              "      <td>1</td>\n",
              "      <td>[1098248, 1017299, 1077430, 938004, 1082185, 8...</td>\n",
              "      <td>[856942, 1087895, 940947, 1104349, 5577022]</td>\n",
              "    </tr>\n",
              "    <tr>\n",
              "      <th>1</th>\n",
              "      <td>2</td>\n",
              "      <td>[830127, 7442008, 899624, 944568]</td>\n",
              "      <td>[1075368, 940947, 1007414, 909714, 959737]</td>\n",
              "    </tr>\n",
              "  </tbody>\n",
              "</table>\n",
              "</div>"
            ],
            "text/plain": [
              "   user_id                                             actual  \\\n",
              "0        1  [1098248, 1017299, 1077430, 938004, 1082185, 8...   \n",
              "1        2                  [830127, 7442008, 899624, 944568]   \n",
              "\n",
              "                                    candidates  \n",
              "0  [856942, 1087895, 940947, 1104349, 5577022]  \n",
              "1   [1075368, 940947, 1007414, 909714, 959737]  "
            ]
          },
          "execution_count": 11,
          "metadata": {},
          "output_type": "execute_result"
        }
      ],
      "source": [
        "result_lvl_1['candidates'] = result_lvl_1['user_id'].apply(lambda row: recommender.get_own_recommendations(row, N=5))\n",
        "result_lvl_1.head(2)"
      ]
    },
    {
      "cell_type": "code",
      "execution_count": null,
      "metadata": {
        "id": "f6MahwDafqyw",
        "outputId": "3746c706-79a7-4df1-9b43-dfe1810cbc1e"
      },
      "outputs": [
        {
          "data": {
            "text/plain": [
              "0.04732704402515749"
            ]
          },
          "execution_count": 12,
          "metadata": {},
          "output_type": "execute_result"
        }
      ],
      "source": [
        "result_lvl_1.apply(lambda row: precision_at_k(row['candidates'], row['actual']), axis=1).mean()"
      ]
    },
    {
      "cell_type": "code",
      "execution_count": null,
      "metadata": {
        "id": "XZQcrch7C4Ju"
      },
      "outputs": [],
      "source": [
        "users_lvl_2 = pd.DataFrame(data_train_lvl_2['user_id'].unique())\n",
        "users_lvl_2.columns = ['user_id']\n",
        "\n",
        "# Пока только warm start\n",
        "train_users = data_train_lvl_1['user_id'].unique()\n",
        "users_lvl_2 = users_lvl_2[users_lvl_2['user_id'].isin(train_users)]\n",
        "\n",
        "users_lvl_2['candidates'] = users_lvl_2['user_id'].apply(lambda x: recommender.get_own_recommendations(x, N=10))"
      ]
    },
    {
      "cell_type": "code",
      "execution_count": null,
      "metadata": {
        "id": "gCYFQYN_fqyw",
        "outputId": "d047f76c-32cc-4210-a0c0-45dc4e3fec10"
      },
      "outputs": [
        {
          "data": {
            "text/html": [
              "<div>\n",
              "<style scoped>\n",
              "    .dataframe tbody tr th:only-of-type {\n",
              "        vertical-align: middle;\n",
              "    }\n",
              "\n",
              "    .dataframe tbody tr th {\n",
              "        vertical-align: top;\n",
              "    }\n",
              "\n",
              "    .dataframe thead th {\n",
              "        text-align: right;\n",
              "    }\n",
              "</style>\n",
              "<table border=\"1\" class=\"dataframe\">\n",
              "  <thead>\n",
              "    <tr style=\"text-align: right;\">\n",
              "      <th></th>\n",
              "      <th>user_id</th>\n",
              "      <th>candidates</th>\n",
              "    </tr>\n",
              "  </thead>\n",
              "  <tbody>\n",
              "    <tr>\n",
              "      <th>0</th>\n",
              "      <td>1501</td>\n",
              "      <td>[1070820, 1079528, 1044078, 939789, 1115175, 1...</td>\n",
              "    </tr>\n",
              "    <tr>\n",
              "      <th>1</th>\n",
              "      <td>1633</td>\n",
              "      <td>[1029743, 1028891, 844179, 933835, 854852, 110...</td>\n",
              "    </tr>\n",
              "  </tbody>\n",
              "</table>\n",
              "</div>"
            ],
            "text/plain": [
              "   user_id                                         candidates\n",
              "0     1501  [1070820, 1079528, 1044078, 939789, 1115175, 1...\n",
              "1     1633  [1029743, 1028891, 844179, 933835, 854852, 110..."
            ]
          },
          "execution_count": 14,
          "metadata": {},
          "output_type": "execute_result"
        }
      ],
      "source": [
        "users_lvl_2.head(2)"
      ]
    },
    {
      "cell_type": "code",
      "execution_count": null,
      "metadata": {
        "id": "8sI35TFBfqyx",
        "outputId": "a5256c44-4ce9-4633-f18c-6ceb6d09961b"
      },
      "outputs": [
        {
          "data": {
            "text/html": [
              "<div>\n",
              "<style scoped>\n",
              "    .dataframe tbody tr th:only-of-type {\n",
              "        vertical-align: middle;\n",
              "    }\n",
              "\n",
              "    .dataframe tbody tr th {\n",
              "        vertical-align: top;\n",
              "    }\n",
              "\n",
              "    .dataframe thead th {\n",
              "        text-align: right;\n",
              "    }\n",
              "</style>\n",
              "<table border=\"1\" class=\"dataframe\">\n",
              "  <thead>\n",
              "    <tr style=\"text-align: right;\">\n",
              "      <th></th>\n",
              "      <th>user_id</th>\n",
              "      <th>item_id</th>\n",
              "      <th>flag</th>\n",
              "    </tr>\n",
              "  </thead>\n",
              "  <tbody>\n",
              "    <tr>\n",
              "      <th>0</th>\n",
              "      <td>1501</td>\n",
              "      <td>1070820.0</td>\n",
              "      <td>1</td>\n",
              "    </tr>\n",
              "    <tr>\n",
              "      <th>0</th>\n",
              "      <td>1501</td>\n",
              "      <td>1079528.0</td>\n",
              "      <td>1</td>\n",
              "    </tr>\n",
              "    <tr>\n",
              "      <th>0</th>\n",
              "      <td>1501</td>\n",
              "      <td>1044078.0</td>\n",
              "      <td>1</td>\n",
              "    </tr>\n",
              "    <tr>\n",
              "      <th>0</th>\n",
              "      <td>1501</td>\n",
              "      <td>939789.0</td>\n",
              "      <td>1</td>\n",
              "    </tr>\n",
              "  </tbody>\n",
              "</table>\n",
              "</div>"
            ],
            "text/plain": [
              "   user_id    item_id  flag\n",
              "0     1501  1070820.0     1\n",
              "0     1501  1079528.0     1\n",
              "0     1501  1044078.0     1\n",
              "0     1501   939789.0     1"
            ]
          },
          "execution_count": 15,
          "metadata": {},
          "output_type": "execute_result"
        }
      ],
      "source": [
        "s = users_lvl_2.apply(lambda x: pd.Series(x['candidates']), axis=1).stack().reset_index(level=1, drop=True)\n",
        "s.name = 'item_id'\n",
        "\n",
        "users_lvl_2 = users_lvl_2.drop('candidates', axis=1).join(s)\n",
        "users_lvl_2['flag'] = 1\n",
        "\n",
        "users_lvl_2.head(4)"
      ]
    },
    {
      "cell_type": "code",
      "execution_count": null,
      "metadata": {
        "id": "GxPXQ70efqyx",
        "outputId": "8fd8e6cc-2edb-419e-9f1c-47fe5d077638"
      },
      "outputs": [
        {
          "data": {
            "text/html": [
              "<div>\n",
              "<style scoped>\n",
              "    .dataframe tbody tr th:only-of-type {\n",
              "        vertical-align: middle;\n",
              "    }\n",
              "\n",
              "    .dataframe tbody tr th {\n",
              "        vertical-align: top;\n",
              "    }\n",
              "\n",
              "    .dataframe thead th {\n",
              "        text-align: right;\n",
              "    }\n",
              "</style>\n",
              "<table border=\"1\" class=\"dataframe\">\n",
              "  <thead>\n",
              "    <tr style=\"text-align: right;\">\n",
              "      <th></th>\n",
              "      <th>user_id</th>\n",
              "      <th>item_id</th>\n",
              "      <th>target</th>\n",
              "    </tr>\n",
              "  </thead>\n",
              "  <tbody>\n",
              "    <tr>\n",
              "      <th>0</th>\n",
              "      <td>1501</td>\n",
              "      <td>1070820.0</td>\n",
              "      <td>0.0</td>\n",
              "    </tr>\n",
              "    <tr>\n",
              "      <th>1</th>\n",
              "      <td>1501</td>\n",
              "      <td>1079528.0</td>\n",
              "      <td>0.0</td>\n",
              "    </tr>\n",
              "  </tbody>\n",
              "</table>\n",
              "</div>"
            ],
            "text/plain": [
              "   user_id    item_id  target\n",
              "0     1501  1070820.0     0.0\n",
              "1     1501  1079528.0     0.0"
            ]
          },
          "execution_count": 16,
          "metadata": {},
          "output_type": "execute_result"
        }
      ],
      "source": [
        "targets_lvl_2 = data_train_lvl_2[['user_id', 'item_id']].copy()\n",
        "targets_lvl_2['target'] = 1  # тут только покупки \n",
        "\n",
        "targets_lvl_2 = users_lvl_2.merge(targets_lvl_2, on=['user_id', 'item_id'], how='left')\n",
        "\n",
        "targets_lvl_2['target'].fillna(0, inplace= True)\n",
        "targets_lvl_2.drop('flag', axis=1, inplace=True)\n",
        "\n",
        "targets_lvl_2.head(2)"
      ]
    },
    {
      "cell_type": "code",
      "execution_count": null,
      "metadata": {
        "id": "z6BQ5nhdfqyy",
        "outputId": "2df75a51-b1e3-4d54-c8cc-fdb80218e11a"
      },
      "outputs": [
        {
          "data": {
            "text/plain": [
              "0.03745093763628434"
            ]
          },
          "execution_count": 17,
          "metadata": {},
          "output_type": "execute_result"
        }
      ],
      "source": [
        "targets_lvl_2['target'].mean()"
      ]
    },
    {
      "cell_type": "code",
      "execution_count": null,
      "metadata": {
        "id": "5RORDa6Lfqyy",
        "outputId": "bbbcfd67-f844-469e-c98f-49d724086fd5"
      },
      "outputs": [
        {
          "data": {
            "text/html": [
              "<div>\n",
              "<style scoped>\n",
              "    .dataframe tbody tr th:only-of-type {\n",
              "        vertical-align: middle;\n",
              "    }\n",
              "\n",
              "    .dataframe tbody tr th {\n",
              "        vertical-align: top;\n",
              "    }\n",
              "\n",
              "    .dataframe thead th {\n",
              "        text-align: right;\n",
              "    }\n",
              "</style>\n",
              "<table border=\"1\" class=\"dataframe\">\n",
              "  <thead>\n",
              "    <tr style=\"text-align: right;\">\n",
              "      <th></th>\n",
              "      <th>item_id</th>\n",
              "      <th>manufacturer</th>\n",
              "      <th>department</th>\n",
              "      <th>brand</th>\n",
              "      <th>commodity_desc</th>\n",
              "      <th>sub_commodity_desc</th>\n",
              "      <th>curr_size_of_product</th>\n",
              "    </tr>\n",
              "  </thead>\n",
              "  <tbody>\n",
              "    <tr>\n",
              "      <th>0</th>\n",
              "      <td>25671</td>\n",
              "      <td>2</td>\n",
              "      <td>GROCERY</td>\n",
              "      <td>National</td>\n",
              "      <td>FRZN ICE</td>\n",
              "      <td>ICE - CRUSHED/CUBED</td>\n",
              "      <td>22 LB</td>\n",
              "    </tr>\n",
              "    <tr>\n",
              "      <th>1</th>\n",
              "      <td>26081</td>\n",
              "      <td>2</td>\n",
              "      <td>MISC. TRANS.</td>\n",
              "      <td>National</td>\n",
              "      <td>NO COMMODITY DESCRIPTION</td>\n",
              "      <td>NO SUBCOMMODITY DESCRIPTION</td>\n",
              "      <td></td>\n",
              "    </tr>\n",
              "  </tbody>\n",
              "</table>\n",
              "</div>"
            ],
            "text/plain": [
              "   item_id  manufacturer    department     brand            commodity_desc  \\\n",
              "0    25671             2       GROCERY  National                  FRZN ICE   \n",
              "1    26081             2  MISC. TRANS.  National  NO COMMODITY DESCRIPTION   \n",
              "\n",
              "            sub_commodity_desc curr_size_of_product  \n",
              "0          ICE - CRUSHED/CUBED                22 LB  \n",
              "1  NO SUBCOMMODITY DESCRIPTION                       "
            ]
          },
          "execution_count": 18,
          "metadata": {},
          "output_type": "execute_result"
        }
      ],
      "source": [
        "item_features.head(2)"
      ]
    },
    {
      "cell_type": "code",
      "execution_count": null,
      "metadata": {
        "id": "-o9jEeeXfqyz",
        "outputId": "0826a276-7b08-441c-e801-2ed5e4afcc12"
      },
      "outputs": [
        {
          "data": {
            "text/html": [
              "<div>\n",
              "<style scoped>\n",
              "    .dataframe tbody tr th:only-of-type {\n",
              "        vertical-align: middle;\n",
              "    }\n",
              "\n",
              "    .dataframe tbody tr th {\n",
              "        vertical-align: top;\n",
              "    }\n",
              "\n",
              "    .dataframe thead th {\n",
              "        text-align: right;\n",
              "    }\n",
              "</style>\n",
              "<table border=\"1\" class=\"dataframe\">\n",
              "  <thead>\n",
              "    <tr style=\"text-align: right;\">\n",
              "      <th></th>\n",
              "      <th>age_desc</th>\n",
              "      <th>marital_status_code</th>\n",
              "      <th>income_desc</th>\n",
              "      <th>homeowner_desc</th>\n",
              "      <th>hh_comp_desc</th>\n",
              "      <th>household_size_desc</th>\n",
              "      <th>kid_category_desc</th>\n",
              "      <th>user_id</th>\n",
              "    </tr>\n",
              "  </thead>\n",
              "  <tbody>\n",
              "    <tr>\n",
              "      <th>0</th>\n",
              "      <td>65+</td>\n",
              "      <td>A</td>\n",
              "      <td>35-49K</td>\n",
              "      <td>Homeowner</td>\n",
              "      <td>2 Adults No Kids</td>\n",
              "      <td>2</td>\n",
              "      <td>None/Unknown</td>\n",
              "      <td>1</td>\n",
              "    </tr>\n",
              "    <tr>\n",
              "      <th>1</th>\n",
              "      <td>45-54</td>\n",
              "      <td>A</td>\n",
              "      <td>50-74K</td>\n",
              "      <td>Homeowner</td>\n",
              "      <td>2 Adults No Kids</td>\n",
              "      <td>2</td>\n",
              "      <td>None/Unknown</td>\n",
              "      <td>7</td>\n",
              "    </tr>\n",
              "  </tbody>\n",
              "</table>\n",
              "</div>"
            ],
            "text/plain": [
              "  age_desc marital_status_code income_desc homeowner_desc      hh_comp_desc  \\\n",
              "0      65+                   A      35-49K      Homeowner  2 Adults No Kids   \n",
              "1    45-54                   A      50-74K      Homeowner  2 Adults No Kids   \n",
              "\n",
              "  household_size_desc kid_category_desc  user_id  \n",
              "0                   2      None/Unknown        1  \n",
              "1                   2      None/Unknown        7  "
            ]
          },
          "execution_count": 19,
          "metadata": {},
          "output_type": "execute_result"
        }
      ],
      "source": [
        "user_features.head(2)"
      ]
    },
    {
      "cell_type": "code",
      "execution_count": null,
      "metadata": {
        "scrolled": true,
        "id": "WiyBOwhZfqyz",
        "outputId": "e9f8d3ab-aea9-4253-f5a3-8d58f8df6aac"
      },
      "outputs": [
        {
          "data": {
            "text/html": [
              "<div>\n",
              "<style scoped>\n",
              "    .dataframe tbody tr th:only-of-type {\n",
              "        vertical-align: middle;\n",
              "    }\n",
              "\n",
              "    .dataframe tbody tr th {\n",
              "        vertical-align: top;\n",
              "    }\n",
              "\n",
              "    .dataframe thead th {\n",
              "        text-align: right;\n",
              "    }\n",
              "</style>\n",
              "<table border=\"1\" class=\"dataframe\">\n",
              "  <thead>\n",
              "    <tr style=\"text-align: right;\">\n",
              "      <th></th>\n",
              "      <th>user_id</th>\n",
              "      <th>item_id</th>\n",
              "      <th>target</th>\n",
              "      <th>manufacturer</th>\n",
              "      <th>department</th>\n",
              "      <th>brand</th>\n",
              "      <th>commodity_desc</th>\n",
              "      <th>sub_commodity_desc</th>\n",
              "      <th>curr_size_of_product</th>\n",
              "      <th>age_desc</th>\n",
              "      <th>marital_status_code</th>\n",
              "      <th>income_desc</th>\n",
              "      <th>homeowner_desc</th>\n",
              "      <th>hh_comp_desc</th>\n",
              "      <th>household_size_desc</th>\n",
              "      <th>kid_category_desc</th>\n",
              "    </tr>\n",
              "  </thead>\n",
              "  <tbody>\n",
              "    <tr>\n",
              "      <th>0</th>\n",
              "      <td>1501</td>\n",
              "      <td>1070820.0</td>\n",
              "      <td>0.0</td>\n",
              "      <td>69</td>\n",
              "      <td>GROCERY</td>\n",
              "      <td>Private</td>\n",
              "      <td>FLUID MILK PRODUCTS</td>\n",
              "      <td>FLUID MILK WHITE ONLY</td>\n",
              "      <td>1 GA</td>\n",
              "      <td>NaN</td>\n",
              "      <td>NaN</td>\n",
              "      <td>NaN</td>\n",
              "      <td>NaN</td>\n",
              "      <td>NaN</td>\n",
              "      <td>NaN</td>\n",
              "      <td>NaN</td>\n",
              "    </tr>\n",
              "    <tr>\n",
              "      <th>1</th>\n",
              "      <td>1501</td>\n",
              "      <td>1079528.0</td>\n",
              "      <td>0.0</td>\n",
              "      <td>737</td>\n",
              "      <td>DRUG GM</td>\n",
              "      <td>National</td>\n",
              "      <td>NEWSPAPER</td>\n",
              "      <td>NEWSPAPER</td>\n",
              "      <td></td>\n",
              "      <td>NaN</td>\n",
              "      <td>NaN</td>\n",
              "      <td>NaN</td>\n",
              "      <td>NaN</td>\n",
              "      <td>NaN</td>\n",
              "      <td>NaN</td>\n",
              "      <td>NaN</td>\n",
              "    </tr>\n",
              "  </tbody>\n",
              "</table>\n",
              "</div>"
            ],
            "text/plain": [
              "   user_id    item_id  target  manufacturer department     brand  \\\n",
              "0     1501  1070820.0     0.0            69    GROCERY   Private   \n",
              "1     1501  1079528.0     0.0           737    DRUG GM  National   \n",
              "\n",
              "        commodity_desc     sub_commodity_desc curr_size_of_product age_desc  \\\n",
              "0  FLUID MILK PRODUCTS  FLUID MILK WHITE ONLY                 1 GA      NaN   \n",
              "1            NEWSPAPER              NEWSPAPER                           NaN   \n",
              "\n",
              "  marital_status_code income_desc homeowner_desc hh_comp_desc  \\\n",
              "0                 NaN         NaN            NaN          NaN   \n",
              "1                 NaN         NaN            NaN          NaN   \n",
              "\n",
              "  household_size_desc kid_category_desc  \n",
              "0                 NaN               NaN  \n",
              "1                 NaN               NaN  "
            ]
          },
          "execution_count": 20,
          "metadata": {},
          "output_type": "execute_result"
        }
      ],
      "source": [
        "targets_lvl_2 = targets_lvl_2.merge(item_features, on='item_id', how='left')\n",
        "targets_lvl_2 = targets_lvl_2.merge(user_features, on='user_id', how='left')\n",
        "\n",
        "targets_lvl_2.head(2)"
      ]
    },
    {
      "cell_type": "code",
      "execution_count": null,
      "metadata": {
        "id": "rMm0PBlffqyz",
        "outputId": "edaaf3d6-2f77-4f8b-c712-3e0d08d721a1"
      },
      "outputs": [
        {
          "name": "stdout",
          "output_type": "stream",
          "text": [
            "Decreased # items from 11232 to 5000\n"
          ]
        }
      ],
      "source": [
        "pd.set_option('display.max_columns', 100)\n",
        "\n",
        "data_for_feature = pd.concat([data_train_lvl_1, data_val_lvl_1])\n",
        "data_for_feature = data_for_feature.merge(item_features, on='item_id', how='left')\n",
        "data_for_feature = data_for_feature.merge(user_features, on='user_id', how='left')\n",
        "\n",
        "n_items_before = data_for_feature['item_id'].nunique()\n",
        "\n",
        "data_for_feature = prefilter_items(data_for_feature, item_features=item_features, take_n_popular=5000)\n",
        "\n",
        "n_items_after = data_for_feature['item_id'].nunique()\n",
        "print('Decreased # items from {} to {}'.format(n_items_before, n_items_after))"
      ]
    },
    {
      "cell_type": "code",
      "execution_count": null,
      "metadata": {
        "id": "lwiUx9O1fqy0",
        "outputId": "f388735f-01b3-4e31-b6a2-32adc4c92104"
      },
      "outputs": [
        {
          "name": "stdout",
          "output_type": "stream",
          "text": [
            "<class 'pandas.core.frame.DataFrame'>\n",
            "Int64Index: 88326 entries, 0 to 98931\n",
            "Data columns (total 27 columns):\n",
            " #   Column                Non-Null Count  Dtype  \n",
            "---  ------                --------------  -----  \n",
            " 0   Unnamed: 0            88326 non-null  int64  \n",
            " 1   user_id               88326 non-null  int64  \n",
            " 2   basket_id             88326 non-null  int64  \n",
            " 3   day                   88326 non-null  int64  \n",
            " 4   item_id               88326 non-null  int64  \n",
            " 5   quantity              88326 non-null  int64  \n",
            " 6   sales_value           88326 non-null  float64\n",
            " 7   store_id              88326 non-null  int64  \n",
            " 8   retail_disc           88326 non-null  float64\n",
            " 9   trans_time            88326 non-null  int64  \n",
            " 10  week_no               88326 non-null  int64  \n",
            " 11  coupon_disc           88326 non-null  float64\n",
            " 12  coupon_match_disc     88326 non-null  float64\n",
            " 13  price                 88326 non-null  float64\n",
            " 14  manufacturer          64043 non-null  float64\n",
            " 15  department            64043 non-null  object \n",
            " 16  brand                 64043 non-null  object \n",
            " 17  commodity_desc        64043 non-null  object \n",
            " 18  sub_commodity_desc    64043 non-null  object \n",
            " 19  curr_size_of_product  64043 non-null  object \n",
            " 20  age_desc              49448 non-null  object \n",
            " 21  marital_status_code   49448 non-null  object \n",
            " 22  income_desc           49448 non-null  object \n",
            " 23  homeowner_desc        49448 non-null  object \n",
            " 24  hh_comp_desc          49448 non-null  object \n",
            " 25  household_size_desc   49448 non-null  object \n",
            " 26  kid_category_desc     49448 non-null  object \n",
            "dtypes: float64(6), int64(9), object(12)\n",
            "memory usage: 18.9+ MB\n"
          ]
        }
      ],
      "source": [
        "data_for_feature.info()"
      ]
    },
    {
      "cell_type": "code",
      "execution_count": null,
      "metadata": {
        "id": "fnI-tpEEfqy0",
        "outputId": "e3206e87-0f0b-4775-d3e7-828724996ef2"
      },
      "outputs": [
        {
          "data": {
            "text/html": [
              "<div>\n",
              "<style scoped>\n",
              "    .dataframe tbody tr th:only-of-type {\n",
              "        vertical-align: middle;\n",
              "    }\n",
              "\n",
              "    .dataframe tbody tr th {\n",
              "        vertical-align: top;\n",
              "    }\n",
              "\n",
              "    .dataframe thead th {\n",
              "        text-align: right;\n",
              "    }\n",
              "</style>\n",
              "<table border=\"1\" class=\"dataframe\">\n",
              "  <thead>\n",
              "    <tr style=\"text-align: right;\">\n",
              "      <th></th>\n",
              "      <th>Unnamed: 0</th>\n",
              "      <th>user_id</th>\n",
              "      <th>basket_id</th>\n",
              "      <th>day</th>\n",
              "      <th>item_id</th>\n",
              "      <th>quantity</th>\n",
              "      <th>sales_value</th>\n",
              "      <th>store_id</th>\n",
              "      <th>retail_disc</th>\n",
              "      <th>trans_time</th>\n",
              "      <th>week_no</th>\n",
              "      <th>coupon_disc</th>\n",
              "      <th>coupon_match_disc</th>\n",
              "      <th>price</th>\n",
              "      <th>manufacturer</th>\n",
              "      <th>department</th>\n",
              "      <th>brand</th>\n",
              "      <th>commodity_desc</th>\n",
              "      <th>sub_commodity_desc</th>\n",
              "      <th>curr_size_of_product</th>\n",
              "      <th>age_desc</th>\n",
              "      <th>marital_status_code</th>\n",
              "      <th>income_desc</th>\n",
              "      <th>homeowner_desc</th>\n",
              "      <th>hh_comp_desc</th>\n",
              "      <th>household_size_desc</th>\n",
              "      <th>kid_category_desc</th>\n",
              "    </tr>\n",
              "  </thead>\n",
              "  <tbody>\n",
              "    <tr>\n",
              "      <th>0</th>\n",
              "      <td>402281</td>\n",
              "      <td>324</td>\n",
              "      <td>29170411703</td>\n",
              "      <td>165</td>\n",
              "      <td>7168774</td>\n",
              "      <td>2</td>\n",
              "      <td>6.98</td>\n",
              "      <td>367</td>\n",
              "      <td>0.0</td>\n",
              "      <td>1115</td>\n",
              "      <td>24</td>\n",
              "      <td>0.0</td>\n",
              "      <td>0.0</td>\n",
              "      <td>3.49</td>\n",
              "      <td>794.0</td>\n",
              "      <td>GROCERY</td>\n",
              "      <td>National</td>\n",
              "      <td>CONVENIENT BRKFST/WHLSM SNACKS</td>\n",
              "      <td>CEREAL BARS</td>\n",
              "      <td>7.4 OZ</td>\n",
              "      <td>45-54</td>\n",
              "      <td>U</td>\n",
              "      <td>50-74K</td>\n",
              "      <td>Unknown</td>\n",
              "      <td>Single Female</td>\n",
              "      <td>1</td>\n",
              "      <td>None/Unknown</td>\n",
              "    </tr>\n",
              "    <tr>\n",
              "      <th>1</th>\n",
              "      <td>1348564</td>\n",
              "      <td>1982</td>\n",
              "      <td>32957769022</td>\n",
              "      <td>404</td>\n",
              "      <td>12811490</td>\n",
              "      <td>1</td>\n",
              "      <td>3.99</td>\n",
              "      <td>319</td>\n",
              "      <td>0.0</td>\n",
              "      <td>2101</td>\n",
              "      <td>58</td>\n",
              "      <td>0.0</td>\n",
              "      <td>0.0</td>\n",
              "      <td>3.99</td>\n",
              "      <td>1091.0</td>\n",
              "      <td>DRUG GM</td>\n",
              "      <td>National</td>\n",
              "      <td>CHARCOAL AND LIGHTER FLUID</td>\n",
              "      <td>CHARCOAL</td>\n",
              "      <td></td>\n",
              "      <td>25-34</td>\n",
              "      <td>U</td>\n",
              "      <td>100-124K</td>\n",
              "      <td>Unknown</td>\n",
              "      <td>Single Male</td>\n",
              "      <td>1</td>\n",
              "      <td>None/Unknown</td>\n",
              "    </tr>\n",
              "  </tbody>\n",
              "</table>\n",
              "</div>"
            ],
            "text/plain": [
              "   Unnamed: 0  user_id    basket_id  day   item_id  quantity  sales_value  \\\n",
              "0      402281      324  29170411703  165   7168774         2         6.98   \n",
              "1     1348564     1982  32957769022  404  12811490         1         3.99   \n",
              "\n",
              "   store_id  retail_disc  trans_time  week_no  coupon_disc  coupon_match_disc  \\\n",
              "0       367          0.0        1115       24          0.0                0.0   \n",
              "1       319          0.0        2101       58          0.0                0.0   \n",
              "\n",
              "   price  manufacturer department     brand                  commodity_desc  \\\n",
              "0   3.49         794.0    GROCERY  National  CONVENIENT BRKFST/WHLSM SNACKS   \n",
              "1   3.99        1091.0    DRUG GM  National      CHARCOAL AND LIGHTER FLUID   \n",
              "\n",
              "  sub_commodity_desc curr_size_of_product age_desc marital_status_code  \\\n",
              "0        CEREAL BARS               7.4 OZ    45-54                   U   \n",
              "1           CHARCOAL                         25-34                   U   \n",
              "\n",
              "  income_desc homeowner_desc   hh_comp_desc household_size_desc  \\\n",
              "0      50-74K        Unknown  Single Female                   1   \n",
              "1    100-124K        Unknown    Single Male                   1   \n",
              "\n",
              "  kid_category_desc  \n",
              "0      None/Unknown  \n",
              "1      None/Unknown  "
            ]
          },
          "execution_count": 23,
          "metadata": {},
          "output_type": "execute_result"
        }
      ],
      "source": [
        "data_for_feature.head(2)"
      ]
    },
    {
      "cell_type": "code",
      "execution_count": null,
      "metadata": {
        "scrolled": false,
        "id": "XAjproEWfqy0",
        "outputId": "30db9e36-dd5f-4321-e458-782f7a1833b7"
      },
      "outputs": [
        {
          "data": {
            "text/html": [
              "<div>\n",
              "<style scoped>\n",
              "    .dataframe tbody tr th:only-of-type {\n",
              "        vertical-align: middle;\n",
              "    }\n",
              "\n",
              "    .dataframe tbody tr th {\n",
              "        vertical-align: top;\n",
              "    }\n",
              "\n",
              "    .dataframe thead th {\n",
              "        text-align: right;\n",
              "    }\n",
              "</style>\n",
              "<table border=\"1\" class=\"dataframe\">\n",
              "  <thead>\n",
              "    <tr style=\"text-align: right;\">\n",
              "      <th></th>\n",
              "      <th>user_id</th>\n",
              "      <th>item_id</th>\n",
              "      <th>target</th>\n",
              "      <th>manufacturer</th>\n",
              "      <th>department</th>\n",
              "      <th>brand</th>\n",
              "      <th>commodity_desc</th>\n",
              "      <th>sub_commodity_desc</th>\n",
              "      <th>curr_size_of_product</th>\n",
              "      <th>age_desc</th>\n",
              "      <th>marital_status_code</th>\n",
              "      <th>income_desc</th>\n",
              "      <th>homeowner_desc</th>\n",
              "      <th>hh_comp_desc</th>\n",
              "      <th>household_size_desc</th>\n",
              "      <th>kid_category_desc</th>\n",
              "      <th>mean_weekly_expenses</th>\n",
              "    </tr>\n",
              "  </thead>\n",
              "  <tbody>\n",
              "    <tr>\n",
              "      <th>0</th>\n",
              "      <td>1501</td>\n",
              "      <td>1070820.0</td>\n",
              "      <td>0.0</td>\n",
              "      <td>69</td>\n",
              "      <td>GROCERY</td>\n",
              "      <td>Private</td>\n",
              "      <td>FLUID MILK PRODUCTS</td>\n",
              "      <td>FLUID MILK WHITE ONLY</td>\n",
              "      <td>1 GA</td>\n",
              "      <td>NaN</td>\n",
              "      <td>NaN</td>\n",
              "      <td>NaN</td>\n",
              "      <td>NaN</td>\n",
              "      <td>NaN</td>\n",
              "      <td>NaN</td>\n",
              "      <td>NaN</td>\n",
              "      <td>8.432727</td>\n",
              "    </tr>\n",
              "  </tbody>\n",
              "</table>\n",
              "</div>"
            ],
            "text/plain": [
              "   user_id    item_id  target  manufacturer department    brand  \\\n",
              "0     1501  1070820.0     0.0            69    GROCERY  Private   \n",
              "\n",
              "        commodity_desc     sub_commodity_desc curr_size_of_product age_desc  \\\n",
              "0  FLUID MILK PRODUCTS  FLUID MILK WHITE ONLY                 1 GA      NaN   \n",
              "\n",
              "  marital_status_code income_desc homeowner_desc hh_comp_desc  \\\n",
              "0                 NaN         NaN            NaN          NaN   \n",
              "\n",
              "  household_size_desc kid_category_desc  mean_weekly_expenses  \n",
              "0                 NaN               NaN              8.432727  "
            ]
          },
          "execution_count": 24,
          "metadata": {},
          "output_type": "execute_result"
        }
      ],
      "source": [
        "# на какую в среднем сумму юзер делает покупки за неделю\n",
        "mean_weekly_expenses = data_for_feature.groupby(['user_id', 'week_no'])['sales_value'].agg('sum').groupby(['user_id']).agg('mean')\\\n",
        "                                    .rename('mean_weekly_expenses')\n",
        "targets_lvl_2 = targets_lvl_2.merge(mean_weekly_expenses, how='left', on='user_id')\n",
        "targets_lvl_2.head(1)"
      ]
    },
    {
      "cell_type": "code",
      "execution_count": null,
      "metadata": {
        "id": "PezAVaxPfqy1",
        "outputId": "3d6ed5e6-1060-432d-e65e-81145921f3b1"
      },
      "outputs": [
        {
          "data": {
            "text/html": [
              "<div>\n",
              "<style scoped>\n",
              "    .dataframe tbody tr th:only-of-type {\n",
              "        vertical-align: middle;\n",
              "    }\n",
              "\n",
              "    .dataframe tbody tr th {\n",
              "        vertical-align: top;\n",
              "    }\n",
              "\n",
              "    .dataframe thead th {\n",
              "        text-align: right;\n",
              "    }\n",
              "</style>\n",
              "<table border=\"1\" class=\"dataframe\">\n",
              "  <thead>\n",
              "    <tr style=\"text-align: right;\">\n",
              "      <th></th>\n",
              "      <th>user_id</th>\n",
              "      <th>item_id</th>\n",
              "      <th>target</th>\n",
              "      <th>manufacturer</th>\n",
              "      <th>department</th>\n",
              "      <th>brand</th>\n",
              "      <th>commodity_desc</th>\n",
              "      <th>sub_commodity_desc</th>\n",
              "      <th>curr_size_of_product</th>\n",
              "      <th>age_desc</th>\n",
              "      <th>marital_status_code</th>\n",
              "      <th>income_desc</th>\n",
              "      <th>homeowner_desc</th>\n",
              "      <th>hh_comp_desc</th>\n",
              "      <th>household_size_desc</th>\n",
              "      <th>kid_category_desc</th>\n",
              "      <th>mean_weekly_expenses</th>\n",
              "      <th>amount_sales_in_category</th>\n",
              "    </tr>\n",
              "  </thead>\n",
              "  <tbody>\n",
              "    <tr>\n",
              "      <th>0</th>\n",
              "      <td>1501</td>\n",
              "      <td>1070820.0</td>\n",
              "      <td>0.0</td>\n",
              "      <td>69</td>\n",
              "      <td>GROCERY</td>\n",
              "      <td>Private</td>\n",
              "      <td>FLUID MILK PRODUCTS</td>\n",
              "      <td>FLUID MILK WHITE ONLY</td>\n",
              "      <td>1 GA</td>\n",
              "      <td>NaN</td>\n",
              "      <td>NaN</td>\n",
              "      <td>NaN</td>\n",
              "      <td>NaN</td>\n",
              "      <td>NaN</td>\n",
              "      <td>NaN</td>\n",
              "      <td>NaN</td>\n",
              "      <td>8.432727</td>\n",
              "      <td>37.643678</td>\n",
              "    </tr>\n",
              "  </tbody>\n",
              "</table>\n",
              "</div>"
            ],
            "text/plain": [
              "   user_id    item_id  target  manufacturer department    brand  \\\n",
              "0     1501  1070820.0     0.0            69    GROCERY  Private   \n",
              "\n",
              "        commodity_desc     sub_commodity_desc curr_size_of_product age_desc  \\\n",
              "0  FLUID MILK PRODUCTS  FLUID MILK WHITE ONLY                 1 GA      NaN   \n",
              "\n",
              "  marital_status_code income_desc homeowner_desc hh_comp_desc  \\\n",
              "0                 NaN         NaN            NaN          NaN   \n",
              "\n",
              "  household_size_desc kid_category_desc  mean_weekly_expenses  \\\n",
              "0                 NaN               NaN              8.432727   \n",
              "\n",
              "   amount_sales_in_category  \n",
              "0                 37.643678  "
            ]
          },
          "execution_count": 25,
          "metadata": {},
          "output_type": "execute_result"
        }
      ],
      "source": [
        "# среднее количество продаж в неделю в категории\n",
        "amount_sales_in_category = data_for_feature.groupby(['commodity_desc', 'week_no'])['quantity'].agg('sum')\\\n",
        "                        .groupby(['commodity_desc']).agg('mean').rename('amount_sales_in_category')\n",
        "targets_lvl_2 = targets_lvl_2.merge(amount_sales_in_category, how='left', on=['commodity_desc'])\n",
        "targets_lvl_2.head(1)"
      ]
    },
    {
      "cell_type": "code",
      "execution_count": null,
      "metadata": {
        "scrolled": false,
        "id": "Ne4giCwhfqy1",
        "outputId": "51e5c3d5-1a7e-4b65-f5e6-c0fd212ab22d"
      },
      "outputs": [
        {
          "data": {
            "text/html": [
              "<div>\n",
              "<style scoped>\n",
              "    .dataframe tbody tr th:only-of-type {\n",
              "        vertical-align: middle;\n",
              "    }\n",
              "\n",
              "    .dataframe tbody tr th {\n",
              "        vertical-align: top;\n",
              "    }\n",
              "\n",
              "    .dataframe thead th {\n",
              "        text-align: right;\n",
              "    }\n",
              "</style>\n",
              "<table border=\"1\" class=\"dataframe\">\n",
              "  <thead>\n",
              "    <tr style=\"text-align: right;\">\n",
              "      <th></th>\n",
              "      <th>user_id</th>\n",
              "      <th>item_id</th>\n",
              "      <th>target</th>\n",
              "      <th>manufacturer</th>\n",
              "      <th>department</th>\n",
              "      <th>brand</th>\n",
              "      <th>commodity_desc</th>\n",
              "      <th>sub_commodity_desc</th>\n",
              "      <th>curr_size_of_product</th>\n",
              "      <th>age_desc</th>\n",
              "      <th>marital_status_code</th>\n",
              "      <th>income_desc</th>\n",
              "      <th>homeowner_desc</th>\n",
              "      <th>hh_comp_desc</th>\n",
              "      <th>household_size_desc</th>\n",
              "      <th>kid_category_desc</th>\n",
              "      <th>mean_weekly_expenses</th>\n",
              "      <th>amount_sales_in_category</th>\n",
              "      <th>mean_price_in_category</th>\n",
              "    </tr>\n",
              "  </thead>\n",
              "  <tbody>\n",
              "    <tr>\n",
              "      <th>0</th>\n",
              "      <td>1501</td>\n",
              "      <td>1070820.0</td>\n",
              "      <td>0.0</td>\n",
              "      <td>69</td>\n",
              "      <td>GROCERY</td>\n",
              "      <td>Private</td>\n",
              "      <td>FLUID MILK PRODUCTS</td>\n",
              "      <td>FLUID MILK WHITE ONLY</td>\n",
              "      <td>1 GA</td>\n",
              "      <td>NaN</td>\n",
              "      <td>NaN</td>\n",
              "      <td>NaN</td>\n",
              "      <td>NaN</td>\n",
              "      <td>NaN</td>\n",
              "      <td>NaN</td>\n",
              "      <td>NaN</td>\n",
              "      <td>8.432727</td>\n",
              "      <td>37.643678</td>\n",
              "      <td>2.986169</td>\n",
              "    </tr>\n",
              "  </tbody>\n",
              "</table>\n",
              "</div>"
            ],
            "text/plain": [
              "   user_id    item_id  target  manufacturer department    brand  \\\n",
              "0     1501  1070820.0     0.0            69    GROCERY  Private   \n",
              "\n",
              "        commodity_desc     sub_commodity_desc curr_size_of_product age_desc  \\\n",
              "0  FLUID MILK PRODUCTS  FLUID MILK WHITE ONLY                 1 GA      NaN   \n",
              "\n",
              "  marital_status_code income_desc homeowner_desc hh_comp_desc  \\\n",
              "0                 NaN         NaN            NaN          NaN   \n",
              "\n",
              "  household_size_desc kid_category_desc  mean_weekly_expenses  \\\n",
              "0                 NaN               NaN              8.432727   \n",
              "\n",
              "   amount_sales_in_category  mean_price_in_category  \n",
              "0                 37.643678                2.986169  "
            ]
          },
          "execution_count": 26,
          "metadata": {},
          "output_type": "execute_result"
        }
      ],
      "source": [
        "# средняя цена товара в категории\n",
        "mean_price_in_category = data_for_feature.groupby(['commodity_desc'])['sales_value'].agg('mean').rename('mean_price_in_category')\n",
        "targets_lvl_2 = targets_lvl_2.merge(mean_price_in_category, how='left', on=['commodity_desc'])\n",
        "targets_lvl_2.head(1)"
      ]
    },
    {
      "cell_type": "code",
      "execution_count": null,
      "metadata": {
        "scrolled": true,
        "id": "-Gxqgkkafqy1",
        "outputId": "fbc61f84-b1b2-4b55-ab1f-0642861e404c"
      },
      "outputs": [
        {
          "data": {
            "text/html": [
              "<div>\n",
              "<style scoped>\n",
              "    .dataframe tbody tr th:only-of-type {\n",
              "        vertical-align: middle;\n",
              "    }\n",
              "\n",
              "    .dataframe tbody tr th {\n",
              "        vertical-align: top;\n",
              "    }\n",
              "\n",
              "    .dataframe thead th {\n",
              "        text-align: right;\n",
              "    }\n",
              "</style>\n",
              "<table border=\"1\" class=\"dataframe\">\n",
              "  <thead>\n",
              "    <tr style=\"text-align: right;\">\n",
              "      <th></th>\n",
              "      <th>user_id</th>\n",
              "      <th>item_id</th>\n",
              "      <th>target</th>\n",
              "      <th>manufacturer</th>\n",
              "      <th>department</th>\n",
              "      <th>brand</th>\n",
              "      <th>commodity_desc</th>\n",
              "      <th>sub_commodity_desc</th>\n",
              "      <th>curr_size_of_product</th>\n",
              "      <th>age_desc</th>\n",
              "      <th>marital_status_code</th>\n",
              "      <th>income_desc</th>\n",
              "      <th>homeowner_desc</th>\n",
              "      <th>hh_comp_desc</th>\n",
              "      <th>household_size_desc</th>\n",
              "      <th>kid_category_desc</th>\n",
              "      <th>mean_weekly_expenses</th>\n",
              "      <th>amount_sales_in_category</th>\n",
              "      <th>mean_price_in_category</th>\n",
              "      <th>users_buys_in_category</th>\n",
              "    </tr>\n",
              "  </thead>\n",
              "  <tbody>\n",
              "    <tr>\n",
              "      <th>0</th>\n",
              "      <td>1501</td>\n",
              "      <td>1070820.0</td>\n",
              "      <td>0.0</td>\n",
              "      <td>69</td>\n",
              "      <td>GROCERY</td>\n",
              "      <td>Private</td>\n",
              "      <td>FLUID MILK PRODUCTS</td>\n",
              "      <td>FLUID MILK WHITE ONLY</td>\n",
              "      <td>1 GA</td>\n",
              "      <td>NaN</td>\n",
              "      <td>NaN</td>\n",
              "      <td>NaN</td>\n",
              "      <td>NaN</td>\n",
              "      <td>NaN</td>\n",
              "      <td>NaN</td>\n",
              "      <td>NaN</td>\n",
              "      <td>8.432727</td>\n",
              "      <td>37.643678</td>\n",
              "      <td>2.986169</td>\n",
              "      <td>1.0</td>\n",
              "    </tr>\n",
              "    <tr>\n",
              "      <th>1</th>\n",
              "      <td>1501</td>\n",
              "      <td>1079528.0</td>\n",
              "      <td>0.0</td>\n",
              "      <td>737</td>\n",
              "      <td>DRUG GM</td>\n",
              "      <td>National</td>\n",
              "      <td>NEWSPAPER</td>\n",
              "      <td>NEWSPAPER</td>\n",
              "      <td></td>\n",
              "      <td>NaN</td>\n",
              "      <td>NaN</td>\n",
              "      <td>NaN</td>\n",
              "      <td>NaN</td>\n",
              "      <td>NaN</td>\n",
              "      <td>NaN</td>\n",
              "      <td>NaN</td>\n",
              "      <td>8.432727</td>\n",
              "      <td>1.000000</td>\n",
              "      <td>5.000000</td>\n",
              "      <td>1.0</td>\n",
              "    </tr>\n",
              "  </tbody>\n",
              "</table>\n",
              "</div>"
            ],
            "text/plain": [
              "   user_id    item_id  target  manufacturer department     brand  \\\n",
              "0     1501  1070820.0     0.0            69    GROCERY   Private   \n",
              "1     1501  1079528.0     0.0           737    DRUG GM  National   \n",
              "\n",
              "        commodity_desc     sub_commodity_desc curr_size_of_product age_desc  \\\n",
              "0  FLUID MILK PRODUCTS  FLUID MILK WHITE ONLY                 1 GA      NaN   \n",
              "1            NEWSPAPER              NEWSPAPER                           NaN   \n",
              "\n",
              "  marital_status_code income_desc homeowner_desc hh_comp_desc  \\\n",
              "0                 NaN         NaN            NaN          NaN   \n",
              "1                 NaN         NaN            NaN          NaN   \n",
              "\n",
              "  household_size_desc kid_category_desc  mean_weekly_expenses  \\\n",
              "0                 NaN               NaN              8.432727   \n",
              "1                 NaN               NaN              8.432727   \n",
              "\n",
              "   amount_sales_in_category  mean_price_in_category  users_buys_in_category  \n",
              "0                 37.643678                2.986169                     1.0  \n",
              "1                  1.000000                5.000000                     1.0  "
            ]
          },
          "execution_count": 27,
          "metadata": {},
          "output_type": "execute_result"
        }
      ],
      "source": [
        "# среднее количество покупок юзера в неделю в текущей категории\n",
        "users_buys_in_category = data_for_feature.groupby(['user_id', 'commodity_desc', 'week_no'])['quantity'].agg('sum')\\\n",
        "                                .groupby(['user_id', 'commodity_desc']).agg('mean').rename('users_buys_in_category')\n",
        "targets_lvl_2 = targets_lvl_2.merge(users_buys_in_category, how='left', on=['user_id', 'commodity_desc'])\n",
        "targets_lvl_2.head(2)"
      ]
    },
    {
      "cell_type": "code",
      "execution_count": null,
      "metadata": {
        "scrolled": false,
        "id": "6hpw9l0rfqy2",
        "outputId": "153fd3d9-af3c-4a0d-e26b-ec2f2791497c"
      },
      "outputs": [
        {
          "name": "stdout",
          "output_type": "stream",
          "text": [
            "<class 'pandas.core.frame.DataFrame'>\n",
            "Int64Index: 18344 entries, 0 to 18343\n",
            "Data columns (total 20 columns):\n",
            " #   Column                    Non-Null Count  Dtype  \n",
            "---  ------                    --------------  -----  \n",
            " 0   user_id                   18344 non-null  int64  \n",
            " 1   item_id                   18344 non-null  float64\n",
            " 2   target                    18344 non-null  float64\n",
            " 3   manufacturer              18344 non-null  int64  \n",
            " 4   department                18344 non-null  object \n",
            " 5   brand                     18344 non-null  object \n",
            " 6   commodity_desc            18344 non-null  object \n",
            " 7   sub_commodity_desc        18344 non-null  object \n",
            " 8   curr_size_of_product      18344 non-null  object \n",
            " 9   age_desc                  7705 non-null   object \n",
            " 10  marital_status_code       7705 non-null   object \n",
            " 11  income_desc               7705 non-null   object \n",
            " 12  homeowner_desc            7705 non-null   object \n",
            " 13  hh_comp_desc              7705 non-null   object \n",
            " 14  household_size_desc       7705 non-null   object \n",
            " 15  kid_category_desc         7705 non-null   object \n",
            " 16  mean_weekly_expenses      18344 non-null  float64\n",
            " 17  amount_sales_in_category  18007 non-null  float64\n",
            " 18  mean_price_in_category    18007 non-null  float64\n",
            " 19  users_buys_in_category    16069 non-null  float64\n",
            "dtypes: float64(6), int64(2), object(12)\n",
            "memory usage: 2.9+ MB\n"
          ]
        }
      ],
      "source": [
        "targets_lvl_2.info()"
      ]
    },
    {
      "cell_type": "code",
      "execution_count": null,
      "metadata": {
        "id": "2P82PEDTfqy2",
        "outputId": "e61de0a6-f7c0-4248-cd3e-2572c2297296"
      },
      "outputs": [
        {
          "name": "stderr",
          "output_type": "stream",
          "text": [
            "C:\\Users\\PROFES~1\\AppData\\Local\\Temp/ipykernel_876/207469326.py:5: FutureWarning: In a future version of pandas all arguments of DataFrame.drop except for the argument 'labels' will be keyword-only\n",
            "  num_features = targets_lvl_2.select_dtypes(exclude=['category']).drop(['user_id', 'item_id', 'target'], 1).columns.to_list()\n"
          ]
        }
      ],
      "source": [
        "cat_features = targets_lvl_2.columns[3:16].to_list()\n",
        "targets_lvl_2[cat_features] = targets_lvl_2[cat_features].fillna('Unknown')\n",
        "targets_lvl_2[cat_features] = targets_lvl_2[cat_features].astype('category')\n",
        "\n",
        "num_features = targets_lvl_2.select_dtypes(exclude=['category']).drop(['user_id', 'item_id', 'target'], 1).columns.to_list()\n",
        "targets_lvl_2[num_features] = targets_lvl_2[num_features].fillna(targets_lvl_2[num_features].mean())"
      ]
    },
    {
      "cell_type": "code",
      "execution_count": null,
      "metadata": {
        "id": "zQBc3WPtfqy2",
        "outputId": "dbabb6d4-6e6b-484a-cab3-f066ca865934"
      },
      "outputs": [
        {
          "name": "stdout",
          "output_type": "stream",
          "text": [
            "<class 'pandas.core.frame.DataFrame'>\n",
            "Int64Index: 18344 entries, 0 to 18343\n",
            "Data columns (total 20 columns):\n",
            " #   Column                    Non-Null Count  Dtype   \n",
            "---  ------                    --------------  -----   \n",
            " 0   user_id                   18344 non-null  int64   \n",
            " 1   item_id                   18344 non-null  float64 \n",
            " 2   target                    18344 non-null  float64 \n",
            " 3   manufacturer              18344 non-null  category\n",
            " 4   department                18344 non-null  category\n",
            " 5   brand                     18344 non-null  category\n",
            " 6   commodity_desc            18344 non-null  category\n",
            " 7   sub_commodity_desc        18344 non-null  category\n",
            " 8   curr_size_of_product      18344 non-null  category\n",
            " 9   age_desc                  18344 non-null  category\n",
            " 10  marital_status_code       18344 non-null  category\n",
            " 11  income_desc               18344 non-null  category\n",
            " 12  homeowner_desc            18344 non-null  category\n",
            " 13  hh_comp_desc              18344 non-null  category\n",
            " 14  household_size_desc       18344 non-null  category\n",
            " 15  kid_category_desc         18344 non-null  category\n",
            " 16  mean_weekly_expenses      18344 non-null  float64 \n",
            " 17  amount_sales_in_category  18344 non-null  float64 \n",
            " 18  mean_price_in_category    18344 non-null  float64 \n",
            " 19  users_buys_in_category    18344 non-null  float64 \n",
            "dtypes: category(13), float64(6), int64(1)\n",
            "memory usage: 1.5 MB\n"
          ]
        }
      ],
      "source": [
        "targets_lvl_2.info()"
      ]
    },
    {
      "cell_type": "code",
      "execution_count": null,
      "metadata": {
        "id": "WENAgBMsfqy3",
        "outputId": "1895b05a-5691-4150-d7bc-82bf2b290c66"
      },
      "outputs": [
        {
          "name": "stderr",
          "output_type": "stream",
          "text": [
            "<timed exec>:11: FutureWarning: In a future version of pandas all arguments of DataFrame.drop except for the argument 'labels' will be keyword-only\n"
          ]
        },
        {
          "name": "stdout",
          "output_type": "stream",
          "text": [
            "Wall time: 13.6 s\n"
          ]
        },
        {
          "data": {
            "text/plain": [
              "<catboost.core.CatBoostClassifier at 0x13d42a958e0>"
            ]
          },
          "execution_count": 31,
          "metadata": {},
          "output_type": "execute_result"
        }
      ],
      "source": [
        "%%time\n",
        "from catboost import CatBoostClassifier\n",
        "\n",
        "cat_model = CatBoostClassifier(random_state=100,\n",
        "                               iterations=400,\n",
        "                               depth=3,\n",
        "                               l2_leaf_reg=2,\n",
        "                               learning_rate=0.5,\n",
        "                               verbose=False,\n",
        "                               cat_features=cat_features)\n",
        "\n",
        "X_train = targets_lvl_2.drop('target', 1)\n",
        "y_train = targets_lvl_2['target']\n",
        "\n",
        "cat_model.fit(X_train, y_train)"
      ]
    },
    {
      "cell_type": "code",
      "execution_count": null,
      "metadata": {
        "id": "3o7kkFzrfqy3"
      },
      "outputs": [],
      "source": [
        "train_preds = cat_model.predict_proba(X_train)[:, 1]\n",
        "targets_lvl_2['preds_proba'] = train_preds"
      ]
    },
    {
      "cell_type": "code",
      "execution_count": null,
      "metadata": {
        "scrolled": false,
        "id": "33F1TZ1pfqy3",
        "outputId": "05d767a7-a459-4dc9-9294-4d1b718b3d67"
      },
      "outputs": [
        {
          "data": {
            "text/html": [
              "<div>\n",
              "<style scoped>\n",
              "    .dataframe tbody tr th:only-of-type {\n",
              "        vertical-align: middle;\n",
              "    }\n",
              "\n",
              "    .dataframe tbody tr th {\n",
              "        vertical-align: top;\n",
              "    }\n",
              "\n",
              "    .dataframe thead th {\n",
              "        text-align: right;\n",
              "    }\n",
              "</style>\n",
              "<table border=\"1\" class=\"dataframe\">\n",
              "  <thead>\n",
              "    <tr style=\"text-align: right;\">\n",
              "      <th></th>\n",
              "      <th>user_id</th>\n",
              "      <th>item_id</th>\n",
              "    </tr>\n",
              "  </thead>\n",
              "  <tbody>\n",
              "    <tr>\n",
              "      <th>0</th>\n",
              "      <td>1</td>\n",
              "      <td>[1087895.0, 940947.0, 856942.0, 5582712.0, 110...</td>\n",
              "    </tr>\n",
              "    <tr>\n",
              "      <th>1</th>\n",
              "      <td>2</td>\n",
              "      <td>[959737.0, 1007414.0, 952163.0, 909714.0, 1016...</td>\n",
              "    </tr>\n",
              "  </tbody>\n",
              "</table>\n",
              "</div>"
            ],
            "text/plain": [
              "   user_id                                            item_id\n",
              "0        1  [1087895.0, 940947.0, 856942.0, 5582712.0, 110...\n",
              "1        2  [959737.0, 1007414.0, 952163.0, 909714.0, 1016..."
            ]
          },
          "execution_count": 33,
          "metadata": {},
          "output_type": "execute_result"
        }
      ],
      "source": [
        "recs_cb_k5 = targets_lvl_2.sort_values(['user_id', 'preds_proba'], ascending=False).groupby('user_id').head(5)\\\n",
        "                .groupby('user_id')['item_id'].unique().reset_index()\n",
        "recs_cb_k5.head(2)"
      ]
    },
    {
      "cell_type": "code",
      "execution_count": null,
      "metadata": {
        "scrolled": false,
        "id": "VBH5MADAfqy3",
        "outputId": "427fadb6-98ae-4f9c-8d42-6d4ce3499d4e"
      },
      "outputs": [
        {
          "data": {
            "text/html": [
              "<div>\n",
              "<style scoped>\n",
              "    .dataframe tbody tr th:only-of-type {\n",
              "        vertical-align: middle;\n",
              "    }\n",
              "\n",
              "    .dataframe tbody tr th {\n",
              "        vertical-align: top;\n",
              "    }\n",
              "\n",
              "    .dataframe thead th {\n",
              "        text-align: right;\n",
              "    }\n",
              "</style>\n",
              "<table border=\"1\" class=\"dataframe\">\n",
              "  <thead>\n",
              "    <tr style=\"text-align: right;\">\n",
              "      <th></th>\n",
              "      <th>user_id</th>\n",
              "      <th>actual</th>\n",
              "      <th>candidates</th>\n",
              "    </tr>\n",
              "  </thead>\n",
              "  <tbody>\n",
              "    <tr>\n",
              "      <th>0</th>\n",
              "      <td>1</td>\n",
              "      <td>[1035805, 829563, 931136, 877391, 995242, 1082...</td>\n",
              "      <td>[1087895.0, 940947.0, 856942.0, 5582712.0, 110...</td>\n",
              "    </tr>\n",
              "    <tr>\n",
              "      <th>1</th>\n",
              "      <td>2</td>\n",
              "      <td>[980666, 1096261, 13876377, 901062, 13190188, ...</td>\n",
              "      <td>[959737.0, 1007414.0, 952163.0, 909714.0, 1016...</td>\n",
              "    </tr>\n",
              "  </tbody>\n",
              "</table>\n",
              "</div>"
            ],
            "text/plain": [
              "   user_id                                             actual  \\\n",
              "0        1  [1035805, 829563, 931136, 877391, 995242, 1082...   \n",
              "1        2  [980666, 1096261, 13876377, 901062, 13190188, ...   \n",
              "\n",
              "                                          candidates  \n",
              "0  [1087895.0, 940947.0, 856942.0, 5582712.0, 110...  \n",
              "1  [959737.0, 1007414.0, 952163.0, 909714.0, 1016...  "
            ]
          },
          "execution_count": 34,
          "metadata": {},
          "output_type": "execute_result"
        }
      ],
      "source": [
        "result_lvl_2 = data_val_lvl_2.groupby('user_id')['item_id'].unique().reset_index()\n",
        "result_lvl_2.columns=['user_id', 'actual']\n",
        "\n",
        "result_lvl_2 = result_lvl_2.merge(recs_cb_k5, on='user_id', how='left')\n",
        "result_lvl_2 = result_lvl_2.rename(columns={'item_id': 'candidates'})\n",
        "\n",
        "result_lvl_2.head(2)"
      ]
    },
    {
      "cell_type": "code",
      "execution_count": null,
      "metadata": {
        "id": "yliA-26Gfqy4",
        "outputId": "7436a2b5-dae6-42d5-a4c2-1e780611da54"
      },
      "outputs": [
        {
          "data": {
            "text/plain": [
              "0.03220617202889041"
            ]
          },
          "execution_count": 35,
          "metadata": {},
          "output_type": "execute_result"
        }
      ],
      "source": [
        "result_lvl_2 = result_lvl_2[~result_lvl_2['candidates'].isna()]\n",
        "result_lvl_2.apply(lambda row: precision_at_k(row['candidates'], row['actual']), axis=1).mean()"
      ]
    }
  ],
  "metadata": {
    "colab": {
      "provenance": [],
      "include_colab_link": true
    },
    "kernelspec": {
      "display_name": "Python 3 (ipykernel)",
      "language": "python",
      "name": "python3"
    },
    "language_info": {
      "codemirror_mode": {
        "name": "ipython",
        "version": 3
      },
      "file_extension": ".py",
      "mimetype": "text/x-python",
      "name": "python",
      "nbconvert_exporter": "python",
      "pygments_lexer": "ipython3",
      "version": "3.9.7"
    }
  },
  "nbformat": 4,
  "nbformat_minor": 0
}